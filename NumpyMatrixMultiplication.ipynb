{
 "cells": [
  {
   "cell_type": "markdown",
   "metadata": {},
   "source": [
    "I have a matrix, $M$,  of dimension $4213 \\times 500$."
   ]
  },
  {
   "cell_type": "markdown",
   "metadata": {},
   "source": [
    "$M$ is made up of $0$'s and $1$'s."
   ]
  },
  {
   "cell_type": "markdown",
   "metadata": {},
   "source": [
    "What I want to do is matrix multiply $M$ and $M^{T}$ in order to get matrix $F$ of dimension $4213 \\times 4213$."
   ]
  },
  {
   "cell_type": "markdown",
   "metadata": {},
   "source": [
    "How I have been doing it:\n",
    "```python\n",
    "import numpy as np\n",
    "F = np.dot(M, np.transpose(M))\n",
    "```\n",
    "For the particular matrix I have, this took approx 2.25min."
   ]
  },
  {
   "cell_type": "markdown",
   "metadata": {},
   "source": [
    "What I should have done:\n",
    "```python\n",
    "import numpy as np\n",
    "F = np.matmul(M, np.transpose(M))\n",
    "```\n",
    "For the particular matrix I have, this took 9s."
   ]
  },
  {
   "cell_type": "markdown",
   "metadata": {},
   "source": [
    "np.dot() is basically a dot product of 2 arrays. It can also perform matrix multiplication of 2 matrices, but the docs say that np.matmul is preferred. Why did I not listen to this before?!"
   ]
  },
  {
   "cell_type": "code",
   "execution_count": null,
   "metadata": {},
   "outputs": [],
   "source": []
  }
 ],
 "metadata": {
  "kernelspec": {
   "display_name": "Python 3",
   "language": "python",
   "name": "python3"
  },
  "language_info": {
   "codemirror_mode": {
    "name": "ipython",
    "version": 3
   },
   "file_extension": ".py",
   "mimetype": "text/x-python",
   "name": "python",
   "nbconvert_exporter": "python",
   "pygments_lexer": "ipython3",
   "version": "3.6.8"
  }
 },
 "nbformat": 4,
 "nbformat_minor": 2
}
