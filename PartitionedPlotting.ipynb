{
 "cells": [
  {
   "cell_type": "markdown",
   "metadata": {},
   "source": [
    "https://towardsdatascience.com/a-step-by-step-guide-for-creating-advanced-python-data-visualizations-with-seaborn-matplotlib-1579d6a1a7d0"
   ]
  },
  {
   "cell_type": "code",
   "execution_count": 1,
   "metadata": {},
   "outputs": [],
   "source": [
    "import matplotlib.pyplot as plt\n",
    "import matplotlib.gridspec as gridspec"
   ]
  },
  {
   "cell_type": "code",
   "execution_count": 2,
   "metadata": {},
   "outputs": [
    {
     "data": {
      "image/png": "[encoded data removed]",
      "text/plain": [
       "<Figure size 504x504 with 4 Axes>"
      ]
     },
     "metadata": {
      "needs_background": "light"
     },
     "output_type": "display_data"
    }
   ],
   "source": [
    "fig = plt.figure(figsize=(7,7))\n",
    "gs = gridspec.GridSpec(nrows=3, ncols=3,\n",
    "                       figure=fig,\n",
    "                       width_ratios=[1, 1, 1],\n",
    "                       height_ratios=[1, 1, 1],\n",
    "                       wspace=0.3,\n",
    "                       hspace=0.3)\n",
    "#-----\n",
    "ax1 = fig.add_subplot(gs[0, 0])\n",
    "ax1.text(0.5, 0.5, \"ax1: gs[0, 0]\",\n",
    "         fontsize=12, fontweight=\"bold\",\n",
    "         va=\"center\", ha=\"center\") #add text to ax1\n",
    "#-----\n",
    "ax2 = fig.add_subplot(gs[0, 1:3])\n",
    "ax2.text(0.5, 0.5, \"ax2: gs[0, 1:3]\",\n",
    "         fontsize=12, fontweight=\"bold\",\n",
    "         va=\"center\", ha=\"center\") #add text to ax2\n",
    "#-----\n",
    "ax3 = fig.add_subplot(gs[1:3, 0:2])\n",
    "ax3.text(0.5, 0.5, \"ax3: gs[1:3, 0:2]\",\n",
    "         fontsize=12, fontweight=\"bold\",\n",
    "         va=\"center\", ha=\"center\") #add text to ax3\n",
    "#-----\n",
    "ax4 = fig.add_subplot(gs[1:3, 2])\n",
    "ax4.text(0.5, 0.5, \"ax4: gs[1:3, 2]\",\n",
    "         fontsize=12, fontweight=\"bold\",\n",
    "         va=\"center\", ha=\"center\") #add text to ax4\n",
    "#-----\n",
    "plt.show()"
   ]
  },
  {
   "cell_type": "code",
   "execution_count": null,
   "metadata": {},
   "outputs": [],
   "source": []
  }
 ],
 "metadata": {
  "kernelspec": {
   "display_name": "Python 3",
   "language": "python",
   "name": "python3"
  },
  "language_info": {
   "codemirror_mode": {
    "name": "ipython",
    "version": 3
   },
   "file_extension": ".py",
   "mimetype": "text/x-python",
   "name": "python",
   "nbconvert_exporter": "python",
   "pygments_lexer": "ipython3",
   "version": "3.6.8"
  }
 },
 "nbformat": 4,
 "nbformat_minor": 2
}
