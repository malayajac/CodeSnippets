{
 "cells": [
  {
   "cell_type": "markdown",
   "metadata": {},
   "source": [
    "Exampe taken from: https://rosettacode.org/wiki/Runge-Kutta_method"
   ]
  },
  {
   "cell_type": "code",
   "execution_count": 1,
   "metadata": {},
   "outputs": [],
   "source": [
    "import numpy as np\n",
    "import matplotlib.pyplot as plt"
   ]
  },
  {
   "cell_type": "code",
   "execution_count": 2,
   "metadata": {},
   "outputs": [],
   "source": [
    "def RHS(t, x):\n",
    "    return(t * np.sqrt(x))"
   ]
  },
  {
   "cell_type": "code",
   "execution_count": 3,
   "metadata": {},
   "outputs": [],
   "source": [
    "def ActualAns(t):\n",
    "    return (1/16)*(t**2 + 4)**2"
   ]
  },
  {
   "cell_type": "code",
   "execution_count": 4,
   "metadata": {},
   "outputs": [],
   "source": [
    "def SolveRK4(dt, tn, xn):\n",
    "    k1 = dt * RHS(tn, xn)\n",
    "    k2 = dt * RHS(tn + 0.5*dt, xn + 0.5*k1)\n",
    "    k3 = dt * RHS(tn + 0.5*dt, xn + 0.5*k2)\n",
    "    k4 = dt * RHS(tn + dt, xn + k3)\n",
    "    dx = (1.0/6) * (k1 + 2*k2 + 2*k3 + k4)\n",
    "    return (dx)"
   ]
  },
  {
   "cell_type": "code",
   "execution_count": 5,
   "metadata": {},
   "outputs": [
    {
     "data": {
      "image/png": "[encoded data removed]",
      "text/plain": [
       "<Figure size 432x288 with 1 Axes>"
      ]
     },
     "metadata": {
      "needs_background": "light"
     },
     "output_type": "display_data"
    },
    {
     "name": "stdout",
     "output_type": "stream",
     "text": [
      "CPU times: user 204 ms, sys: 8.74 ms, total: 213 ms\n",
      "Wall time: 213 ms\n"
     ]
    }
   ],
   "source": [
    "%%time\n",
    "#--------------------\n",
    "tmin = 0.0\n",
    "tmax = 10.0\n",
    "N = 101\n",
    "dt = (tmax - tmin)/(N - 1)\n",
    "t_line = np.linspace(tmin, tmax, N)\n",
    "\n",
    "x = 1.0  #IC\n",
    "\n",
    "CalcAns = []\n",
    "for t in t_line:\n",
    "    CalcAns.append(x)\n",
    "    dx = SolveRK4(dt, t, x)\n",
    "    xnew = x + dx\n",
    "    x = xnew\n",
    "#--------------------\n",
    "TrueAns = ActualAns(t_line)\n",
    "#--------------------\n",
    "fig = plt.figure()\n",
    "ax = fig.add_axes([0, 0, 1, 1])\n",
    "\n",
    "ax.plot(t_line, TrueAns, \"+\")\n",
    "ax.plot(t_line, CalcAns, \"x\")\n",
    "\n",
    "ax.set_xlabel(\"t\", fontsize=15)\n",
    "ax.set_ylabel(\"x(t)\", fontsize=15)\n",
    "\n",
    "ax.grid()\n",
    "plt.show()"
   ]
  },
  {
   "cell_type": "markdown",
   "metadata": {},
   "source": [
    "---"
   ]
  },
  {
   "cell_type": "code",
   "execution_count": 6,
   "metadata": {},
   "outputs": [
    {
     "data": {
      "image/png": "[encoded data removed]",
      "text/plain": [
       "<Figure size 432x288 with 1 Axes>"
      ]
     },
     "metadata": {
      "needs_background": "light"
     },
     "output_type": "display_data"
    },
    {
     "name": "stdout",
     "output_type": "stream",
     "text": [
      "CPU times: user 1min 43s, sys: 432 ms, total: 1min 43s\n",
      "Wall time: 1min 46s\n"
     ]
    }
   ],
   "source": [
    "%%time\n",
    "#--------------------\n",
    "fig = plt.figure()\n",
    "ax = fig.add_axes([0, 0, 1, 1])\n",
    "#--------------------\n",
    "tmin = 0.0\n",
    "tmax = 10.0\n",
    "\n",
    "#N = Number of points b/w tmin and tmax (including endpoints)\n",
    "# N_List = [_ for _ in range(101, 10000, 100)]\n",
    "N_List = [_ for _ in range(101, 100000, 500)]\n",
    "for N in N_List:\n",
    "    dt = (tmax - tmin)/(N - 1)\n",
    "    t_line = np.linspace(tmin, tmax, N)\n",
    "    \n",
    "    x = 1.0  #IC\n",
    "    CalcAns = []\n",
    "    for t in t_line:\n",
    "        CalcAns.append(x)\n",
    "        dx = SolveRK4(dt, t, x)\n",
    "        xnew = x + dx\n",
    "        x = xnew\n",
    "    #-----\n",
    "    TrueAns = ActualAns(t)\n",
    "    AbsErr = np.abs(TrueAns - CalcAns[-1])\n",
    "    ax.plot(N, AbsErr, \"r.\")\n",
    "#--------------------\n",
    "ax.set_xlabel(\"N\", fontsize=15)\n",
    "ax.set_ylabel(\"Absolute Error\", fontsize=15)\n",
    "\n",
    "ax.set_xscale('log')\n",
    "ax.set_yscale('log')\n",
    "plt.show()"
   ]
  },
  {
   "cell_type": "code",
   "execution_count": null,
   "metadata": {},
   "outputs": [],
   "source": []
  }
 ],
 "metadata": {
  "kernelspec": {
   "display_name": "Python 3",
   "language": "python",
   "name": "python3"
  },
  "language_info": {
   "codemirror_mode": {
    "name": "ipython",
    "version": 3
   },
   "file_extension": ".py",
   "mimetype": "text/x-python",
   "name": "python",
   "nbconvert_exporter": "python",
   "pygments_lexer": "ipython3",
   "version": "3.6.8"
  }
 },
 "nbformat": 4,
 "nbformat_minor": 2
}
