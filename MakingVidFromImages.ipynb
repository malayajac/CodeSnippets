{
 "cells": [
  {
   "cell_type": "markdown",
   "metadata": {},
   "source": [
    "2019-June-13, Thursday"
   ]
  },
  {
   "cell_type": "markdown",
   "metadata": {},
   "source": [
    "Make images that need to be stitched together as a video:"
   ]
  },
  {
   "cell_type": "code",
   "execution_count": 1,
   "metadata": {},
   "outputs": [],
   "source": [
    "import matplotlib.pyplot as plt\n",
    "import numpy as np\n",
    "import os"
   ]
  },
  {
   "cell_type": "code",
   "execution_count": 2,
   "metadata": {},
   "outputs": [],
   "source": [
    "N = 32 #Number of images to be stitched."
   ]
  },
  {
   "cell_type": "code",
   "execution_count": 3,
   "metadata": {},
   "outputs": [],
   "source": [
    "t_List = np.linspace(0, 10, N)"
   ]
  },
  {
   "cell_type": "code",
   "execution_count": 4,
   "metadata": {},
   "outputs": [],
   "source": [
    "x_List = np.sin(t_List)\n",
    "y_List = 0.8*np.cos(t_List) + 0.2*np.sin(t_List)"
   ]
  },
  {
   "cell_type": "code",
   "execution_count": 5,
   "metadata": {},
   "outputs": [
    {
     "data": {
      "image/png": "[encoded data removed]",
      "text/plain": [
       "<Figure size 432x288 with 1 Axes>"
      ]
     },
     "metadata": {
      "needs_background": "light"
     },
     "output_type": "display_data"
    }
   ],
   "source": [
    "fig = plt.figure()\n",
    "ax = fig.add_axes([0, 0, 1, 1], aspect=\"equal\",\n",
    "                  xlim=(-1.1, 1.1), ylim=(-1.1, 1.1))\n",
    "\n",
    "ax.plot(x_List, y_List, \".-\")\n",
    "\n",
    "plt.grid()\n",
    "plt.show()"
   ]
  },
  {
   "cell_type": "code",
   "execution_count": 6,
   "metadata": {},
   "outputs": [],
   "source": [
    "FigDir = \"FigsForAnim\"\n",
    "if not os.path.exists(FigDir):\n",
    "    os.mkdir(FigDir)"
   ]
  },
  {
   "cell_type": "code",
   "execution_count": 7,
   "metadata": {},
   "outputs": [
    {
     "name": "stdout",
     "output_type": "stream",
     "text": [
      "Done!\n"
     ]
    }
   ],
   "source": [
    "for ii in range(N):\n",
    "    fig = plt.figure()\n",
    "    ax = fig.add_axes([0, 0, 1, 1], aspect=\"equal\",\n",
    "                      xlim=(-1.1, 1.1), ylim=(-1.1, 1.1))\n",
    "    \n",
    "    ax.plot(x_List[:ii+1], y_List[:ii+1], \"C0o-\", alpha=0.5)\n",
    "    \n",
    "    ax.plot([0, x_List[ii]], [0, y_List[ii]], \"ro-\")\n",
    "    \n",
    "    ax.grid()\n",
    "    FigName = \"{}/MyFig{}.png\".format(FigDir, ii)\n",
    "    plt.savefig(FigName, format=\"png\", transparent=False,\n",
    "                bbox_inches=\"tight\", pad_inches=0.1)\n",
    "    plt.close()\n",
    "print (\"Done!\")"
   ]
  },
  {
   "cell_type": "markdown",
   "metadata": {},
   "source": [
    "---"
   ]
  },
  {
   "cell_type": "markdown",
   "metadata": {},
   "source": [
    "Stitch figures together to make video:"
   ]
  },
  {
   "cell_type": "code",
   "execution_count": 8,
   "metadata": {},
   "outputs": [],
   "source": [
    "import cv2\n",
    "#download this from conda: conda install opencv"
   ]
  },
  {
   "cell_type": "markdown",
   "metadata": {},
   "source": [
    "https://www.life2coding.com/convert-image-frames-video-file-using-opencv-python/"
   ]
  },
  {
   "cell_type": "code",
   "execution_count": 9,
   "metadata": {},
   "outputs": [],
   "source": [
    "def convert_frames_to_video(NumOfImages, InDir, pathOut, fps):\n",
    "    # MAKE SURE THE FILENAMES OF IMAGES TO BE STITCHED ARE CORRECT!!!\n",
    "    files = ['{}/MyFig{}.png'.format(InDir, ii) for ii in range(NumOfImages)]\n",
    "    \n",
    "    frame_array = []\n",
    "    for i in range(NumOfImages):\n",
    "        #Reading each file:\n",
    "        filename = files[i]\n",
    "        \n",
    "        img = cv2.imread(filename)\n",
    "        height, width, layers = img.shape\n",
    "        size = (width,height)\n",
    "        # print(filename)\n",
    "        \n",
    "        #Inserting the frames into an image array:\n",
    "        frame_array.append(img)\n",
    "        \n",
    "    out = cv2.VideoWriter(pathOut,cv2.VideoWriter_fourcc(*'DIVX'), fps, size)\n",
    "    \n",
    "    for i in range(NumOfImages):\n",
    "        #Writing to a image array:\n",
    "        out.write(frame_array[i])\n",
    "    out.release()"
   ]
  },
  {
   "cell_type": "code",
   "execution_count": 10,
   "metadata": {},
   "outputs": [],
   "source": [
    "OutVidName = 'video.avi'\n",
    "fps = 5.0\n",
    "convert_frames_to_video(N, FigDir, OutVidName, fps)"
   ]
  },
  {
   "cell_type": "code",
   "execution_count": 11,
   "metadata": {},
   "outputs": [],
   "source": [
    "!open video.avi\n",
    "#open and run the video."
   ]
  },
  {
   "cell_type": "code",
   "execution_count": null,
   "metadata": {},
   "outputs": [],
   "source": []
  }
 ],
 "metadata": {
  "kernelspec": {
   "display_name": "Python 3",
   "language": "python",
   "name": "python3"
  },
  "language_info": {
   "codemirror_mode": {
    "name": "ipython",
    "version": 3
   },
   "file_extension": ".py",
   "mimetype": "text/x-python",
   "name": "python",
   "nbconvert_exporter": "python",
   "pygments_lexer": "ipython3",
   "version": "3.6.8"
  }
 },
 "nbformat": 4,
 "nbformat_minor": 2
}
